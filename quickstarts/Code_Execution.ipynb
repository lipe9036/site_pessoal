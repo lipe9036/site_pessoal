{
  "cells": [],
  "metadata": {
    "colab": {
      "name": "Code_Execution.ipynb",
      "toc_visible": true,
      "provenance": []
    },
    "kernelspec": {
      "display_name": "Python 3",
      "name": "python3"
    }
  },
  "nbformat": 4,
  "nbformat_minor": 0
}